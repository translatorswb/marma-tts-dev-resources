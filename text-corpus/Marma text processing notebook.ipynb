{
 "cells": [
  {
   "cell_type": "code",
   "execution_count": 3,
   "id": "2316a293",
   "metadata": {},
   "outputs": [],
   "source": [
    "import re\n",
    "import time\n",
    "\n",
    "def clean_sent(text):\n",
    "    text = text.strip()\n",
    "    text = re.sub(r'\\([^)]*\\)', '', text) # Remove anything within parentheses, including the parentheses\n",
    "    text = re.sub(\"^[၀၁၂၃၄၅၆၇၈၉]+\\. *\", '', text)\n",
    "    text = re.sub(\"^∆ *\", '', text)\n",
    "    text = re.sub(\"^[0123456789]+\\. *\", '', text)\n",
    "    text = re.sub(\"[0123456789]+$\", '', text)\n",
    "    text = re.sub(\"-+\", \"\", text)\n",
    "    text = re.sub(\"••+\", \"\", text)\n",
    "    text = re.sub(\"^• *\", '', text)\n",
    "    text = re.sub(\"\\(\", '', text)\n",
    "    text = re.sub(\"\\)\", '', text)\n",
    "    \n",
    "    text = re.sub(' +', ' ', text)\n",
    "    return text.strip()\n",
    "\n",
    "def filter_sent(sentence):\n",
    "    # Check if the sentence contains any Latin characters a-z or A-Z\n",
    "    if re.search(r'[a-zA-Z]', sentence):\n",
    "        return False\n",
    "    \n",
    "    # Check if the sentence is below 2 characters\n",
    "    if len(sentence) < 2:\n",
    "        return False\n",
    "    \n",
    "    # Check if the sentence contains any forbidden characters\n",
    "    forbidden_characters = ['=', '/']\n",
    "    if any(char in sentence for char in forbidden_characters):\n",
    "        return False\n",
    "    \n",
    "    # Check if the sentence contains any Bengali characters\n",
    "    if re.search(r'[\\u0980-\\u09FF]', sentence):\n",
    "        return False\n",
    "    \n",
    "    # Check if the sentence contains at least one Burmese character\n",
    "    if not re.search(r'[\\u1000-\\u109F]', sentence):\n",
    "        return False\n",
    "    \n",
    "    # If all checks are passed, return True\n",
    "    return True\n",
    "\n",
    "def tokenize_burmese_text(text):\n",
    "    # Split the text into lines first\n",
    "    lines = text.splitlines()\n",
    "\n",
    "    # Initialize an empty list to store the sentences\n",
    "    sentences = []\n",
    "\n",
    "    # Iterate through each line\n",
    "    for line in lines:\n",
    "        line = re.sub(\"၊၊\", \"။\", line)\n",
    "        \n",
    "        # Split the line by the sentence-ending character \"။\"\n",
    "        line_sentences = line.split(\"။\")\n",
    "\n",
    "        # If the line had sentence-ending characters, add them back to the sentences except the last one\n",
    "        for i in range(len(line_sentences) - 1):\n",
    "            # Add the sentence-ending character back and strip any extra whitespace\n",
    "            sentences.append(line_sentences[i].strip() + \"။\")\n",
    "\n",
    "        # Add the last part of the line as a sentence if it's non-empty\n",
    "        if line_sentences[-1].strip():\n",
    "            sentences.append(line_sentences[-1])\n",
    "\n",
    "    sentences = [clean_sent(sent) for sent in sentences]\n",
    "    \n",
    "    return [sent for sent in sentences if filter_sent(sent)]"
   ]
  },
  {
   "cell_type": "code",
   "execution_count": 4,
   "id": "631922ef",
   "metadata": {},
   "outputs": [
    {
     "name": "stdout",
     "output_type": "stream",
     "text": [
      "===========Generating corpora===========\n",
      "223 sentences extracted\n",
      "Elapsed time: 0.015915870666503906 seconds\n"
     ]
    }
   ],
   "source": [
    "print(\"===========Generating corpora===========\")\n",
    "\n",
    "# Start time\n",
    "start_time = time.time()\n",
    "\n",
    "# Read document text\n",
    "with open(\"text-corpusing/Re Fung Jang.pdf.txt\", \"r\") as f:\n",
    "    doc_text = f.read()\n",
    "    \n",
    "doc_sents = tokenize_burmese_text(doc_text)\n",
    "\n",
    "# Write sentences to text file\n",
    "with open(\"text-corpusing/Sentences from Re Fung Jang.pdf.txt\", \"w\") as f:\n",
    "    for s in doc_sents:\n",
    "        f.write(s+\"\\n\")\n",
    "\n",
    "# End time\n",
    "end_time = time.time()\n",
    "\n",
    "# Calculate elapsed time\n",
    "elapsed_time = end_time - start_time\n",
    "\n",
    "print(f\"{len(doc_sents)} sentences extracted\")\n",
    "print(f\"Elapsed time: {elapsed_time} seconds\")"
   ]
  },
  {
   "cell_type": "code",
   "execution_count": 87,
   "id": "4a3a6423",
   "metadata": {},
   "outputs": [],
   "source": [
    "text = \"\"\"ကြာဇန် အလက်မှာ ၁၅ လုံး ဇီးသီး ဟိရယ်၊၊ ကြဇန် ၃ ယောက် အဖက်သား ဘောင်းမှာ တဒိ ပျင်ရို့ ဝီရို့ပီးကေ တယောက်စီ မျှာလုံးကျ ဇီးသီး ငဖို့လဲ?\n",
    "\n",
    "မောင်သိန်း အိမ်မာ သရက်ပင် ၂ ပင်  ဟိရယ်၊၊ တပင်က ၈ လုံး၊ အခြါးတပင်က ၇ လုံး သရက်သီး ရရယ်၊၊ ယားဂနီရို့ ၆ လုံး သရက်သီး နမှာ့ရှေကို ပီးလစ်ကေ မောင်သိန်း  အလက်မှာ မျှာလုံး သရက်သီး ကျံဖို့လဲ ?\n",
    "\n",
    "\"\"\"\n"
   ]
  },
  {
   "cell_type": "code",
   "execution_count": 95,
   "id": "4ba83662",
   "metadata": {},
   "outputs": [],
   "source": [
    "text = \"\"\"\n",
    "ဆအကျွန်တို့ ရီသွင်းသွင်း\n",
    "\n",
    "\n",
    " \n",
    "\n",
    "အကျွန်တို့ ရီသွင်းသွင်းသည်\n",
    "\n",
    "သွင်းသွင်းမြည်လို့ စီးဆင်းနေ\n",
    "\n",
    "ကဆုန် နံယုန် ဝါဆိုလ\n",
    "\n",
    "ငါးသျှေပေါ်လို့ လိပ်ပြာက။\n",
    "\n",
    "\n",
    " \n",
    "\n",
    "အနီးအနား အိုင်ဝန်းပေါ်၊\n",
    "\n",
    "တန်းတင် ဖားက တကျော်ကျော်\n",
    "\n",
    "သဒွတ် သပွတ် သျှဉိ့သျှေစား\n",
    "\n",
    "ရောင်းရင် အောက်ချင်း မြည်သံကြား၊\n",
    "\n",
    "\n",
    " \n",
    "\n",
    "ပြည်တွင်း ပြည်ပ လူများဖော်\n",
    "\n",
    "လည်ပတ်သွားလာ မြူးတူးပျော်\n",
    "\n",
    "ဧမြ ရိပ်သာ တန်းရှင်အောက်\n",
    "\n",
    "ခရသည်များ အနားရောက်\n",
    "\n",
    "\n",
    " \n",
    "\n",
    "ပန်ဖြေ ရိပ်သာ သာသာယာ\n",
    "\n",
    "အကျွန်ရို့နယ်  အေးချမ်းသာ\n",
    "\n",
    "တောင်တန်းနယ် သဘာဝ\n",
    "\n",
    "အကျွန်ရို့ပြည် အလှပ။\n",
    "\n",
    "\"\"\""
   ]
  },
  {
   "cell_type": "code",
   "execution_count": 96,
   "id": "079d2082",
   "metadata": {},
   "outputs": [
    {
     "name": "stdout",
     "output_type": "stream",
     "text": [
      "ဆအကျွန်တို့ ရီသွင်းသွင်း\n",
      "အကျွန်တို့ ရီသွင်းသွင်းသည်\n",
      "သွင်းသွင်းမြည်လို့ စီးဆင်းနေ\n",
      "ကဆုန် နံယုန် ဝါဆိုလ\n",
      "ငါးသျှေပေါ်လို့ လိပ်ပြာက။\n",
      "အနီးအနား အိုင်ဝန်းပေါ်၊\n",
      "တန်းတင် ဖားက တကျော်ကျော်\n",
      "သဒွတ် သပွတ် သျှဉိ့သျှေစား\n",
      "ရောင်းရင် အောက်ချင်း မြည်သံကြား၊\n",
      "ပြည်တွင်း ပြည်ပ လူများဖော်\n",
      "လည်ပတ်သွားလာ မြူးတူးပျော်\n",
      "ဧမြ ရိပ်သာ တန်းရှင်အောက်\n",
      "ခရသည်များ အနားရောက်\n",
      "ပန်ဖြေ ရိပ်သာ သာသာယာ\n",
      "အကျွန်ရို့နယ် အေးချမ်းသာ\n",
      "တောင်တန်းနယ် သဘာဝ\n",
      "အကျွန်ရို့ပြည် အလှပ။\n"
     ]
    }
   ],
   "source": [
    "for i in tokenize_burmese_text(text):\n",
    "    print(i)"
   ]
  },
  {
   "cell_type": "code",
   "execution_count": 83,
   "id": "ce5d2820",
   "metadata": {},
   "outputs": [
    {
     "data": {
      "text/plain": [
       "['ကြာဇန် အလက်မှာ ၁၅ လုံး ဇီးသီး ဟိရယ်',\n",
       " ' ကြဇန် ၃ ယောက် အဖက်သား ဘောင်းမှာ တဒိ ပျင်ရို့ ဝီရို့ပီးကေ တယောက်စီ မျှာလုံးကျ ဇီးသီး ငဖို့လဲ?']"
      ]
     },
     "execution_count": 83,
     "metadata": {},
     "output_type": "execute_result"
    }
   ],
   "source": [
    "text.split(\"၊၊\")"
   ]
  },
  {
   "cell_type": "markdown",
   "id": "acb48192",
   "metadata": {},
   "source": [
    "# OCR"
   ]
  },
  {
   "cell_type": "code",
   "execution_count": 6,
   "id": "22408edf",
   "metadata": {},
   "outputs": [],
   "source": [
    "import pytesseract\n",
    "import re\n",
    "from PIL import Image\n",
    "\n",
    "#Setup language for Tesseract\n",
    "LANG = \"mya\"\n",
    "\n",
    "# Function to perform OCR on an image\n",
    "def ocr_image_to_text(image_path):\n",
    "    try:\n",
    "        image = Image.open(image_path)\n",
    "        text = pytesseract.image_to_string(image, lang=LANG)\n",
    "        return text\n",
    "    except Exception as e:\n",
    "        print(f\"⚠️Error during OCR for {image_path}⚠️: {e}\")\n",
    "        return \"\""
   ]
  },
  {
   "cell_type": "code",
   "execution_count": 8,
   "id": "1fd3ea2d",
   "metadata": {},
   "outputs": [
    {
     "name": "stdout",
     "output_type": "stream",
     "text": [
      "မီး မိမ ဂြ\n",
      "\n",
      "ဘာ\n",
      "\n",
      "ဖိုးမောင်လေးကအရမ်းပဲ ကစားမက်တယ်; ါးလည်းလက်ကိုစင်အောင်\n",
      "ကစားရင်းနဲ့လည်း မုန့်စားလေ့ရှိတယ်# | မဆေးဘူးး လက်ဆေး, ထဲကို\n",
      "နး ဆေးပြီး စားလိုက်တာ\n",
      "\n",
      "ဖိုးမောင်လေးဘာဖြစ်လို့ ဗိုက်နာပြီး ၀မ်းခဏခဏ သွားနေတာလဲ#\n",
      "\n"
     ]
    }
   ],
   "source": [
    "text = ocr_image_to_text(\"/Users/alp/Desktop/Screenshot 2024-08-15 at 11.28.24.png\")\n",
    "print(text)"
   ]
  },
  {
   "cell_type": "code",
   "execution_count": null,
   "id": "6d030a88",
   "metadata": {},
   "outputs": [],
   "source": []
  }
 ],
 "metadata": {
  "kernelspec": {
   "display_name": "Python 3",
   "language": "python",
   "name": "python3"
  },
  "language_info": {
   "codemirror_mode": {
    "name": "ipython",
    "version": 3
   },
   "file_extension": ".py",
   "mimetype": "text/x-python",
   "name": "python",
   "nbconvert_exporter": "python",
   "pygments_lexer": "ipython3",
   "version": "3.7.10"
  }
 },
 "nbformat": 4,
 "nbformat_minor": 5
}
